{
 "cells": [
  {
   "cell_type": "code",
   "execution_count": 1,
   "metadata": {},
   "outputs": [
    {
     "name": "stdout",
     "output_type": "stream",
     "text": [
      "I have a dog named Willie.\n",
      "I have a hamster named Harry.\n"
     ]
    }
   ],
   "source": [
    "# Function with Keyword Arguments\n",
    "\n",
    "\n",
    "def describe_pet(pet_name, animal_type=\"dog\"):\n",
    "    return f\"I have a {animal_type} named {pet_name}.\"\n",
    "\n",
    "print(describe_pet(pet_name=\"Willie\"))\n",
    "print(describe_pet(pet_name=\"Harry\", animal_type=\"hamster\"))"
   ]
  },
  {
   "cell_type": "code",
   "execution_count": null,
   "metadata": {},
   "outputs": [],
   "source": []
  }
 ],
 "metadata": {
  "kernelspec": {
   "display_name": "Python 3",
   "language": "python",
   "name": "python3"
  },
  "language_info": {
   "codemirror_mode": {
    "name": "ipython",
    "version": 3
   },
   "file_extension": ".py",
   "mimetype": "text/x-python",
   "name": "python",
   "nbconvert_exporter": "python",
   "pygments_lexer": "ipython3",
   "version": "3.7.3"
  }
 },
 "nbformat": 4,
 "nbformat_minor": 2
}
