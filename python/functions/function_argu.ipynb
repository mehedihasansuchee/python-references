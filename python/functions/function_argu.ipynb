{
 "cells": [
  {
   "cell_type": "code",
   "execution_count": 1,
   "metadata": {},
   "outputs": [
    {
     "name": "stdout",
     "output_type": "stream",
     "text": [
      "I have a dog named Willie.\n",
      "I have a hamster named Harry.\n"
     ]
    }
   ],
   "source": [
    "# Function with Keyword Arguments\n",
    "\n",
    "\n",
    "def describe_pet(pet_name, animal_type=\"dog\"):\n",
    "    return f\"I have a {animal_type} named {pet_name}.\"\n",
    "\n",
    "print(describe_pet(pet_name=\"Willie\"))\n",
    "print(describe_pet(pet_name=\"Harry\", animal_type=\"hamster\"))"
   ]
  },
  {
   "cell_type": "code",
   "execution_count": 2,
   "metadata": {},
   "outputs": [
    {
     "name": "stdout",
     "output_type": "stream",
     "text": [
      "Making a 12-inch pizza with the following toppings:\n",
      "- pepperoni\n",
      "- mushrooms\n",
      "- green peppers\n"
     ]
    }
   ],
   "source": [
    "# Function with Variable-Length Arguments\n",
    "\n",
    "\n",
    "def make_pizza(size, *toppings):\n",
    "    print(f\"Making a {size}-inch pizza with the following toppings:\")\n",
    "    for topping in toppings:\n",
    "        print(f\"- {topping}\")\n",
    "\n",
    "make_pizza(12, \"pepperoni\", \"mushrooms\", \"green peppers\")"
   ]
  },
  {
   "cell_type": "code",
   "execution_count": 3,
   "metadata": {},
   "outputs": [
    {
     "name": "stdout",
     "output_type": "stream",
     "text": [
      "Alice is 30 years old and lives in New York.\n"
     ]
    }
   ],
   "source": [
    "# Function with Keyword-Only Arguments\n",
    "\n",
    "\n",
    "def print_info(name, *, age, city):\n",
    "    return f\"{name} is {age} years old and lives in {city}.\"\n",
    "\n",
    "print(print_info(\"Alice\", age=30, city=\"New York\"))"
   ]
  },
  {
   "cell_type": "code",
   "execution_count": 5,
   "metadata": {},
   "outputs": [
    {
     "name": "stdout",
     "output_type": "stream",
     "text": [
      "Hello, Alice Smith!\n"
     ]
    }
   ],
   "source": [
    "# Basic Function with Positional Arguments\n",
    "\n",
    "\n",
    "def greet(first_name, last_name):\n",
    "    return f\"Hello, {first_name} {last_name}!\"\n",
    "\n",
    "print(greet(\"Alice\", \"Smith\"))"
   ]
  },
  {
   "cell_type": "code",
   "execution_count": 6,
   "metadata": {},
   "outputs": [
    {
     "name": "stdout",
     "output_type": "stream",
     "text": [
      "6\n"
     ]
    }
   ],
   "source": [
    "# Function with Multiple Positional Arguments\n",
    "\n",
    "\n",
    "def add(a, b, c):\n",
    "    return a + b + c\n",
    "\n",
    "print(add(1, 2, 3))  # Output: 6"
   ]
  },
  {
   "cell_type": "code",
   "execution_count": 7,
   "metadata": {},
   "outputs": [
    {
     "name": "stdout",
     "output_type": "stream",
     "text": [
      "I have a hamster named Harry.\n",
      "I have a dog named Unknown.\n"
     ]
    }
   ],
   "source": [
    "# Function with Default Parameters and Positional Arguments\n",
    "\n",
    "\n",
    "def describe_pet(animal_type, pet_name=\"Unknown\"):\n",
    "    return f\"I have a {animal_type} named {pet_name}.\"\n",
    "\n",
    "print(describe_pet(\"hamster\", \"Harry\"))\n",
    "print(describe_pet(\"dog\"))"
   ]
  },
  {
   "cell_type": "code",
   "execution_count": null,
   "metadata": {},
   "outputs": [],
   "source": []
  }
 ],
 "metadata": {
  "kernelspec": {
   "display_name": "Python 3",
   "language": "python",
   "name": "python3"
  },
  "language_info": {
   "codemirror_mode": {
    "name": "ipython",
    "version": 3
   },
   "file_extension": ".py",
   "mimetype": "text/x-python",
   "name": "python",
   "nbconvert_exporter": "python",
   "pygments_lexer": "ipython3",
   "version": "3.7.3"
  }
 },
 "nbformat": 4,
 "nbformat_minor": 2
}
